{
  "nbformat": 4,
  "nbformat_minor": 0,
  "metadata": {
    "colab": {
      "provenance": []
    },
    "kernelspec": {
      "name": "python3",
      "display_name": "Python 3"
    }
  },
  "cells": [
    {
      "cell_type": "markdown",
      "metadata": {
        "id": "ONIqIEu7VyT4"
      },
      "source": [
        "# DuckDuckGo Image Scraper\n",
        "\n",
        "This was originally an image scraper notebook for creating deep learning datasets.\n",
        "\n",
        "It has since been turned into an installable library and is much easier to use as you can simply drop a few lines of code into your own notebook as you're experimenting.\n",
        "\n",
        "This notebook now shows you how to use the library.\n",
        "\n",
        "Docs are at [joedockrill.github.io/jmd_imagescraper/](https://joedockrill.github.io/jmd_imagescraper/)\n",
        "\n",
        "Hugs & kisses, Joe Dockrill."
      ]
    },
    {
      "cell_type": "markdown",
      "metadata": {
        "id": "tTCCj9TS0WVY"
      },
      "source": [
        "## Install\n",
        "\n"
      ]
    },
    {
      "cell_type": "code",
      "metadata": {
        "id": "EYwHbopFG63A"
      },
      "source": [
        "!pip install -q jmd_imagescraper"
      ],
      "execution_count": null,
      "outputs": []
    },
    {
      "cell_type": "markdown",
      "metadata": {
        "id": "IMbb_349LcgA"
      },
      "source": [
        "## Download images"
      ]
    },
    {
      "cell_type": "code",
      "metadata": {
        "id": "ZpLinvRTLjCk",
        "colab": {
          "base_uri": "https://localhost:8080/",
          "height": 1000
        },
        "outputId": "6a978242-eb31-4c1d-93c2-342a9b26fe27"
      },
      "source": [
        "from pathlib import Path\n",
        "root = Path().cwd()/\"images\"\n",
        "\n",
        "from jmd_imagescraper.core import * # dont't worry, it's designed to work with import *\n",
        "\n",
        "duckduckgo_search(root, \"mainan_puzzle\", \"puzzle\", max_results=5000)\n",
        "# duckduckgo_search(root, \"Dogs\", \"cute puppies\", max_results=10)\n",
        "# duckduckgo_search(root, \"Birds\", \"cute baby ducks and chickens\", max_results=10)\n",
        "\n",
        "# file paths are returned so if you want to snag a list of downloaded files as you go, do this:\n",
        "\n",
        "# images = []\n",
        "# images.extend(duckduckgo_search(root, \"Cats\", \"cute kittens\", max_results=10))\n",
        "# images.extend(duckduckgo_search(root, \"Dogs\", \"cute puppies\", max_results=10))\n",
        "# images.extend(duckduckgo_search(root, \"Birds\", \"cute baby ducks and chickens\", max_results=10))\n",
        "# images"
      ],
      "execution_count": null,
      "outputs": [
        {
          "output_type": "stream",
          "name": "stdout",
          "text": [
            "Duckduckgo search: puzzle\n",
            "Downloading results into /content/images/mainan_puzzle\n"
          ]
        },
        {
          "output_type": "display_data",
          "data": {
            "text/plain": [
              "<IPython.core.display.HTML object>"
            ],
            "text/html": [
              "\n",
              "<style>\n",
              "    /* Turns off some styling */\n",
              "    progress {\n",
              "        /* gets rid of default border in Firefox and Opera. */\n",
              "        border: none;\n",
              "        /* Needs to be in here for Safari polyfill so background images work as expected. */\n",
              "        background-size: auto;\n",
              "    }\n",
              "    progress:not([value]), progress:not([value])::-webkit-progress-bar {\n",
              "        background: repeating-linear-gradient(45deg, #7e7e7e, #7e7e7e 10px, #5c5c5c 10px, #5c5c5c 20px);\n",
              "    }\n",
              "    .progress-bar-interrupted, .progress-bar-interrupted::-webkit-progress-bar {\n",
              "        background: #F44336;\n",
              "    }\n",
              "</style>\n"
            ]
          },
          "metadata": {}
        },
        {
          "output_type": "display_data",
          "data": {
            "text/plain": [
              "<IPython.core.display.HTML object>"
            ],
            "text/html": [
              "\n",
              "    <div>\n",
              "      <progress value='363' class='' max='363' style='width:300px; height:20px; vertical-align: middle;'></progress>\n",
              "      100.00% [363/363 00:56&lt;00:00 Images downloaded]\n",
              "    </div>\n",
              "    "
            ]
          },
          "metadata": {}
        },
        {
          "output_type": "execute_result",
          "data": {
            "text/plain": [
              "[PosixPath('/content/images/mainan_puzzle/001_10cb919f.jpg'),\n",
              " PosixPath('/content/images/mainan_puzzle/002_bb8f1207.jpg'),\n",
              " PosixPath('/content/images/mainan_puzzle/003_7b8aee9e.jpg'),\n",
              " PosixPath('/content/images/mainan_puzzle/004_68d4ae2f.jpg'),\n",
              " PosixPath('/content/images/mainan_puzzle/005_34590e6e.jpg'),\n",
              " PosixPath('/content/images/mainan_puzzle/006_aba9dea4.jpg'),\n",
              " PosixPath('/content/images/mainan_puzzle/007_fe3bccd2.jpg'),\n",
              " PosixPath('/content/images/mainan_puzzle/008_0abf5da2.jpg'),\n",
              " PosixPath('/content/images/mainan_puzzle/009_e94020df.jpg'),\n",
              " PosixPath('/content/images/mainan_puzzle/010_1e148ef8.jpg'),\n",
              " PosixPath('/content/images/mainan_puzzle/011_067236f4.jpg'),\n",
              " PosixPath('/content/images/mainan_puzzle/012_7b3400e7.jpg'),\n",
              " PosixPath('/content/images/mainan_puzzle/013_119fbf04.jpg'),\n",
              " PosixPath('/content/images/mainan_puzzle/014_04a0561a.jpg'),\n",
              " PosixPath('/content/images/mainan_puzzle/015_44109b97.jpg'),\n",
              " PosixPath('/content/images/mainan_puzzle/016_833ae93b.jpg'),\n",
              " PosixPath('/content/images/mainan_puzzle/017_c9363f69.jpg'),\n",
              " PosixPath('/content/images/mainan_puzzle/018_c746c5af.jpg'),\n",
              " PosixPath('/content/images/mainan_puzzle/019_ff236bed.jpg'),\n",
              " PosixPath('/content/images/mainan_puzzle/020_78b0ee46.jpg'),\n",
              " PosixPath('/content/images/mainan_puzzle/021_57768625.jpg'),\n",
              " PosixPath('/content/images/mainan_puzzle/022_805b7d12.jpg'),\n",
              " PosixPath('/content/images/mainan_puzzle/023_7f2bd2fb.jpg'),\n",
              " PosixPath('/content/images/mainan_puzzle/024_daf12056.jpg'),\n",
              " PosixPath('/content/images/mainan_puzzle/025_3fb8e1b5.jpg'),\n",
              " PosixPath('/content/images/mainan_puzzle/026_ec97ce54.jpg'),\n",
              " PosixPath('/content/images/mainan_puzzle/027_62a02e49.jpg'),\n",
              " PosixPath('/content/images/mainan_puzzle/028_9c7a9d79.jpg'),\n",
              " PosixPath('/content/images/mainan_puzzle/029_6a5dc874.jpg'),\n",
              " PosixPath('/content/images/mainan_puzzle/030_ae518ada.jpg'),\n",
              " PosixPath('/content/images/mainan_puzzle/031_c9fd38c0.jpg'),\n",
              " PosixPath('/content/images/mainan_puzzle/032_2e69c81f.jpg'),\n",
              " PosixPath('/content/images/mainan_puzzle/033_d7bfbbbb.jpg'),\n",
              " PosixPath('/content/images/mainan_puzzle/034_24e129ee.jpg'),\n",
              " PosixPath('/content/images/mainan_puzzle/035_5750899b.jpg'),\n",
              " PosixPath('/content/images/mainan_puzzle/036_ce113d7e.jpg'),\n",
              " PosixPath('/content/images/mainan_puzzle/037_fe519b74.jpg'),\n",
              " PosixPath('/content/images/mainan_puzzle/038_da1e6f42.jpg'),\n",
              " PosixPath('/content/images/mainan_puzzle/039_8b189705.jpg'),\n",
              " PosixPath('/content/images/mainan_puzzle/040_29b06288.jpg'),\n",
              " PosixPath('/content/images/mainan_puzzle/041_c1e252c8.jpg'),\n",
              " PosixPath('/content/images/mainan_puzzle/042_f495b79b.jpg'),\n",
              " PosixPath('/content/images/mainan_puzzle/043_5bed0a43.jpg'),\n",
              " PosixPath('/content/images/mainan_puzzle/044_f912d970.jpg'),\n",
              " PosixPath('/content/images/mainan_puzzle/045_6d79de16.jpg'),\n",
              " PosixPath('/content/images/mainan_puzzle/046_727c4c91.jpg'),\n",
              " PosixPath('/content/images/mainan_puzzle/047_e017a1c2.jpg'),\n",
              " PosixPath('/content/images/mainan_puzzle/048_9755894f.jpg'),\n",
              " PosixPath('/content/images/mainan_puzzle/049_5b04be95.jpg'),\n",
              " PosixPath('/content/images/mainan_puzzle/050_7d682cef.jpg'),\n",
              " PosixPath('/content/images/mainan_puzzle/051_4c32cd5f.jpg'),\n",
              " PosixPath('/content/images/mainan_puzzle/052_06fc6916.jpg'),\n",
              " PosixPath('/content/images/mainan_puzzle/053_e99ec60c.jpg'),\n",
              " PosixPath('/content/images/mainan_puzzle/054_d22d5a49.jpg'),\n",
              " PosixPath('/content/images/mainan_puzzle/055_ba8cc6fe.jpg'),\n",
              " PosixPath('/content/images/mainan_puzzle/056_25ca03bd.jpg'),\n",
              " PosixPath('/content/images/mainan_puzzle/057_0a76d62b.jpg'),\n",
              " PosixPath('/content/images/mainan_puzzle/058_b9fcf730.jpg'),\n",
              " PosixPath('/content/images/mainan_puzzle/059_ae29e7bd.jpg'),\n",
              " PosixPath('/content/images/mainan_puzzle/060_6b384faf.jpg'),\n",
              " PosixPath('/content/images/mainan_puzzle/061_ab5e7baf.jpg'),\n",
              " PosixPath('/content/images/mainan_puzzle/062_84cd7bd5.jpg'),\n",
              " PosixPath('/content/images/mainan_puzzle/063_91e9f690.jpg'),\n",
              " PosixPath('/content/images/mainan_puzzle/064_87986ec2.jpg'),\n",
              " PosixPath('/content/images/mainan_puzzle/065_055d95d6.jpg'),\n",
              " PosixPath('/content/images/mainan_puzzle/066_ec428f3f.jpg'),\n",
              " PosixPath('/content/images/mainan_puzzle/067_fe572b1c.jpg'),\n",
              " PosixPath('/content/images/mainan_puzzle/068_1bd80896.jpg'),\n",
              " PosixPath('/content/images/mainan_puzzle/069_f462ca66.jpg'),\n",
              " PosixPath('/content/images/mainan_puzzle/070_7a0a8937.jpg'),\n",
              " PosixPath('/content/images/mainan_puzzle/071_e02ec28e.jpg'),\n",
              " PosixPath('/content/images/mainan_puzzle/072_f1924586.jpg'),\n",
              " PosixPath('/content/images/mainan_puzzle/073_f7a5fff6.jpg'),\n",
              " PosixPath('/content/images/mainan_puzzle/074_5322d088.jpg'),\n",
              " PosixPath('/content/images/mainan_puzzle/075_7ff3cd19.jpg'),\n",
              " PosixPath('/content/images/mainan_puzzle/076_df600334.jpg'),\n",
              " PosixPath('/content/images/mainan_puzzle/077_41350010.jpg'),\n",
              " PosixPath('/content/images/mainan_puzzle/078_4659e5c4.jpg'),\n",
              " PosixPath('/content/images/mainan_puzzle/079_71e07b9f.jpg'),\n",
              " PosixPath('/content/images/mainan_puzzle/080_fd655158.jpg'),\n",
              " PosixPath('/content/images/mainan_puzzle/081_d31e8f7e.jpg'),\n",
              " PosixPath('/content/images/mainan_puzzle/082_926e9492.jpg'),\n",
              " PosixPath('/content/images/mainan_puzzle/083_487e0846.jpg'),\n",
              " PosixPath('/content/images/mainan_puzzle/084_5d364008.jpg'),\n",
              " PosixPath('/content/images/mainan_puzzle/085_8cfcdb4a.jpg'),\n",
              " PosixPath('/content/images/mainan_puzzle/086_cdce4715.jpg'),\n",
              " PosixPath('/content/images/mainan_puzzle/087_5dae4253.jpg'),\n",
              " PosixPath('/content/images/mainan_puzzle/088_ba8a1c87.jpg'),\n",
              " PosixPath('/content/images/mainan_puzzle/089_7fc0716a.jpg'),\n",
              " PosixPath('/content/images/mainan_puzzle/090_b136ce37.jpg'),\n",
              " PosixPath('/content/images/mainan_puzzle/091_4e386277.jpg'),\n",
              " PosixPath('/content/images/mainan_puzzle/092_98d0c6bb.jpg'),\n",
              " PosixPath('/content/images/mainan_puzzle/093_cfe9be1c.jpg'),\n",
              " PosixPath('/content/images/mainan_puzzle/094_4cf3484f.jpg'),\n",
              " PosixPath('/content/images/mainan_puzzle/095_335fced0.jpg'),\n",
              " PosixPath('/content/images/mainan_puzzle/096_87299269.jpg'),\n",
              " PosixPath('/content/images/mainan_puzzle/097_dafcce68.jpg'),\n",
              " PosixPath('/content/images/mainan_puzzle/098_b379cd6f.jpg'),\n",
              " PosixPath('/content/images/mainan_puzzle/099_52b50ef1.jpg'),\n",
              " PosixPath('/content/images/mainan_puzzle/100_9cfabcda.jpg'),\n",
              " PosixPath('/content/images/mainan_puzzle/101_3c95357c.jpg'),\n",
              " PosixPath('/content/images/mainan_puzzle/102_41ab1abb.jpg'),\n",
              " PosixPath('/content/images/mainan_puzzle/103_f99f776c.jpg'),\n",
              " PosixPath('/content/images/mainan_puzzle/104_86e7c434.jpg'),\n",
              " PosixPath('/content/images/mainan_puzzle/105_2c7d0ca1.jpg'),\n",
              " PosixPath('/content/images/mainan_puzzle/106_ebd79c6d.jpg'),\n",
              " PosixPath('/content/images/mainan_puzzle/107_70d3d108.jpg'),\n",
              " PosixPath('/content/images/mainan_puzzle/108_d2e6b2b2.jpg'),\n",
              " PosixPath('/content/images/mainan_puzzle/109_e361e519.jpg'),\n",
              " PosixPath('/content/images/mainan_puzzle/110_f12ff087.jpg'),\n",
              " PosixPath('/content/images/mainan_puzzle/111_0fb51c93.jpg'),\n",
              " PosixPath('/content/images/mainan_puzzle/112_ce2c440f.jpg'),\n",
              " PosixPath('/content/images/mainan_puzzle/113_cb7bb2df.jpg'),\n",
              " PosixPath('/content/images/mainan_puzzle/114_6657b139.jpg'),\n",
              " PosixPath('/content/images/mainan_puzzle/115_62d2932b.jpg'),\n",
              " PosixPath('/content/images/mainan_puzzle/116_4d5fe351.jpg'),\n",
              " PosixPath('/content/images/mainan_puzzle/117_5cd576b0.jpg'),\n",
              " PosixPath('/content/images/mainan_puzzle/118_0529716e.jpg'),\n",
              " PosixPath('/content/images/mainan_puzzle/119_19fd799e.jpg'),\n",
              " PosixPath('/content/images/mainan_puzzle/120_f4917c05.jpg'),\n",
              " PosixPath('/content/images/mainan_puzzle/121_68cd0e9d.jpg'),\n",
              " PosixPath('/content/images/mainan_puzzle/122_01bdc657.jpg'),\n",
              " PosixPath('/content/images/mainan_puzzle/123_2403c628.jpg'),\n",
              " PosixPath('/content/images/mainan_puzzle/124_d19d2570.jpg'),\n",
              " PosixPath('/content/images/mainan_puzzle/125_1b11dc62.jpg'),\n",
              " PosixPath('/content/images/mainan_puzzle/126_8e27047b.jpg'),\n",
              " PosixPath('/content/images/mainan_puzzle/127_cbf185b4.jpg'),\n",
              " PosixPath('/content/images/mainan_puzzle/128_82ee401b.jpg'),\n",
              " PosixPath('/content/images/mainan_puzzle/129_3ba5c3ff.jpg'),\n",
              " PosixPath('/content/images/mainan_puzzle/130_d2e60ab5.jpg'),\n",
              " PosixPath('/content/images/mainan_puzzle/131_1d828e98.jpg'),\n",
              " PosixPath('/content/images/mainan_puzzle/132_0e1b2607.jpg'),\n",
              " PosixPath('/content/images/mainan_puzzle/133_085b54e7.jpg'),\n",
              " PosixPath('/content/images/mainan_puzzle/134_5e2bdba1.jpg'),\n",
              " PosixPath('/content/images/mainan_puzzle/135_392753c7.jpg'),\n",
              " PosixPath('/content/images/mainan_puzzle/136_268ff7f8.jpg'),\n",
              " PosixPath('/content/images/mainan_puzzle/137_3679426d.jpg'),\n",
              " PosixPath('/content/images/mainan_puzzle/138_04b9c76e.jpg'),\n",
              " PosixPath('/content/images/mainan_puzzle/139_c087ee99.jpg'),\n",
              " PosixPath('/content/images/mainan_puzzle/140_4e45f5b3.jpg'),\n",
              " PosixPath('/content/images/mainan_puzzle/141_e8f60354.jpg'),\n",
              " PosixPath('/content/images/mainan_puzzle/142_22c699e9.jpg'),\n",
              " PosixPath('/content/images/mainan_puzzle/143_f69c58cd.jpg'),\n",
              " PosixPath('/content/images/mainan_puzzle/144_f23954b7.jpg'),\n",
              " PosixPath('/content/images/mainan_puzzle/145_0845bd5d.jpg'),\n",
              " PosixPath('/content/images/mainan_puzzle/146_9c6c2a24.jpg'),\n",
              " PosixPath('/content/images/mainan_puzzle/147_a5b736a9.jpg'),\n",
              " PosixPath('/content/images/mainan_puzzle/148_d7023b4c.jpg'),\n",
              " PosixPath('/content/images/mainan_puzzle/149_bb16047a.jpg'),\n",
              " PosixPath('/content/images/mainan_puzzle/150_ae64912b.jpg'),\n",
              " PosixPath('/content/images/mainan_puzzle/151_3c9995c4.jpg'),\n",
              " PosixPath('/content/images/mainan_puzzle/152_210eeb42.jpg'),\n",
              " PosixPath('/content/images/mainan_puzzle/153_8bc282d5.jpg'),\n",
              " PosixPath('/content/images/mainan_puzzle/154_cf9cff42.jpg'),\n",
              " PosixPath('/content/images/mainan_puzzle/155_f11a23ce.jpg'),\n",
              " PosixPath('/content/images/mainan_puzzle/156_2b0e8422.jpg'),\n",
              " PosixPath('/content/images/mainan_puzzle/157_39bb5996.jpg'),\n",
              " PosixPath('/content/images/mainan_puzzle/158_64379a89.jpg'),\n",
              " PosixPath('/content/images/mainan_puzzle/159_74423920.jpg'),\n",
              " PosixPath('/content/images/mainan_puzzle/160_69597d62.jpg'),\n",
              " PosixPath('/content/images/mainan_puzzle/161_5e19e1cb.jpg'),\n",
              " PosixPath('/content/images/mainan_puzzle/162_f0806162.jpg'),\n",
              " PosixPath('/content/images/mainan_puzzle/163_b10d2038.jpg'),\n",
              " PosixPath('/content/images/mainan_puzzle/164_3703b767.jpg'),\n",
              " PosixPath('/content/images/mainan_puzzle/165_e800c6dd.jpg'),\n",
              " PosixPath('/content/images/mainan_puzzle/166_4aa9a9ef.jpg'),\n",
              " PosixPath('/content/images/mainan_puzzle/167_ccbd22c8.jpg'),\n",
              " PosixPath('/content/images/mainan_puzzle/168_84e5f88f.jpg'),\n",
              " PosixPath('/content/images/mainan_puzzle/169_121f6858.jpg'),\n",
              " PosixPath('/content/images/mainan_puzzle/170_fc728ddd.jpg'),\n",
              " PosixPath('/content/images/mainan_puzzle/171_40241026.jpg'),\n",
              " PosixPath('/content/images/mainan_puzzle/172_27e96d00.jpg'),\n",
              " PosixPath('/content/images/mainan_puzzle/173_b2117698.jpg'),\n",
              " PosixPath('/content/images/mainan_puzzle/174_71242508.jpg'),\n",
              " PosixPath('/content/images/mainan_puzzle/175_6685a5bf.jpg'),\n",
              " PosixPath('/content/images/mainan_puzzle/176_d1a6eda4.jpg'),\n",
              " PosixPath('/content/images/mainan_puzzle/177_a97cce05.jpg'),\n",
              " PosixPath('/content/images/mainan_puzzle/178_991ec6f1.jpg'),\n",
              " PosixPath('/content/images/mainan_puzzle/179_670a5a21.jpg'),\n",
              " PosixPath('/content/images/mainan_puzzle/180_ce029819.jpg'),\n",
              " PosixPath('/content/images/mainan_puzzle/181_36b34963.jpg'),\n",
              " PosixPath('/content/images/mainan_puzzle/182_9faabd09.jpg'),\n",
              " PosixPath('/content/images/mainan_puzzle/183_4b771d44.jpg'),\n",
              " PosixPath('/content/images/mainan_puzzle/184_ee40ac23.jpg'),\n",
              " PosixPath('/content/images/mainan_puzzle/185_2f34ca07.jpg'),\n",
              " PosixPath('/content/images/mainan_puzzle/186_2e880d43.jpg'),\n",
              " PosixPath('/content/images/mainan_puzzle/187_5cf4bdd3.jpg'),\n",
              " PosixPath('/content/images/mainan_puzzle/188_0de50fbe.jpg'),\n",
              " PosixPath('/content/images/mainan_puzzle/189_ac19172c.jpg'),\n",
              " PosixPath('/content/images/mainan_puzzle/190_49b9d63f.jpg'),\n",
              " PosixPath('/content/images/mainan_puzzle/191_fe519dba.jpg'),\n",
              " PosixPath('/content/images/mainan_puzzle/192_28b1edd0.jpg'),\n",
              " PosixPath('/content/images/mainan_puzzle/193_00967e6d.jpg'),\n",
              " PosixPath('/content/images/mainan_puzzle/194_20e96143.jpg'),\n",
              " PosixPath('/content/images/mainan_puzzle/195_5603bb0c.jpg'),\n",
              " PosixPath('/content/images/mainan_puzzle/196_fdab767e.jpg'),\n",
              " PosixPath('/content/images/mainan_puzzle/197_9a6d73cf.jpg'),\n",
              " PosixPath('/content/images/mainan_puzzle/198_5aa0b472.jpg'),\n",
              " PosixPath('/content/images/mainan_puzzle/199_1a698b64.jpg'),\n",
              " PosixPath('/content/images/mainan_puzzle/200_8a7c595a.jpg'),\n",
              " PosixPath('/content/images/mainan_puzzle/201_48412a32.jpg'),\n",
              " PosixPath('/content/images/mainan_puzzle/202_b37ae32f.jpg'),\n",
              " PosixPath('/content/images/mainan_puzzle/203_92b124ab.jpg'),\n",
              " PosixPath('/content/images/mainan_puzzle/204_8897dfde.jpg'),\n",
              " PosixPath('/content/images/mainan_puzzle/205_e252d3e9.jpg'),\n",
              " PosixPath('/content/images/mainan_puzzle/206_7c4fb218.jpg'),\n",
              " PosixPath('/content/images/mainan_puzzle/207_89621a58.jpg'),\n",
              " PosixPath('/content/images/mainan_puzzle/208_197087e1.jpg'),\n",
              " PosixPath('/content/images/mainan_puzzle/209_5cb5d460.jpg'),\n",
              " PosixPath('/content/images/mainan_puzzle/210_cd4862f9.jpg'),\n",
              " PosixPath('/content/images/mainan_puzzle/211_8c1d4a8d.jpg'),\n",
              " PosixPath('/content/images/mainan_puzzle/212_ec11cdce.jpg'),\n",
              " PosixPath('/content/images/mainan_puzzle/213_1819bb90.jpg'),\n",
              " PosixPath('/content/images/mainan_puzzle/214_c69815ce.jpg'),\n",
              " PosixPath('/content/images/mainan_puzzle/215_29edf7d8.jpg'),\n",
              " PosixPath('/content/images/mainan_puzzle/216_0398c24e.jpg'),\n",
              " PosixPath('/content/images/mainan_puzzle/217_d2c8889f.jpg'),\n",
              " PosixPath('/content/images/mainan_puzzle/218_e02bef8e.jpg'),\n",
              " PosixPath('/content/images/mainan_puzzle/219_d5d92784.jpg'),\n",
              " PosixPath('/content/images/mainan_puzzle/220_cac766a6.jpg'),\n",
              " PosixPath('/content/images/mainan_puzzle/221_f27bea04.jpg'),\n",
              " PosixPath('/content/images/mainan_puzzle/222_93b7d9e3.jpg'),\n",
              " PosixPath('/content/images/mainan_puzzle/223_2840eef4.jpg'),\n",
              " PosixPath('/content/images/mainan_puzzle/224_2259885a.jpg'),\n",
              " PosixPath('/content/images/mainan_puzzle/225_7168dabe.jpg'),\n",
              " PosixPath('/content/images/mainan_puzzle/226_74f0020d.jpg'),\n",
              " PosixPath('/content/images/mainan_puzzle/227_1e886a1f.jpg'),\n",
              " PosixPath('/content/images/mainan_puzzle/228_978ccd61.jpg'),\n",
              " PosixPath('/content/images/mainan_puzzle/229_48dc8a5a.jpg'),\n",
              " PosixPath('/content/images/mainan_puzzle/230_7bddf9f0.jpg'),\n",
              " PosixPath('/content/images/mainan_puzzle/231_12aa755c.jpg'),\n",
              " PosixPath('/content/images/mainan_puzzle/232_18a579f6.jpg'),\n",
              " PosixPath('/content/images/mainan_puzzle/233_8feb3d70.jpg'),\n",
              " PosixPath('/content/images/mainan_puzzle/234_67b3a0d2.jpg'),\n",
              " PosixPath('/content/images/mainan_puzzle/235_25953cc5.jpg'),\n",
              " PosixPath('/content/images/mainan_puzzle/236_b7b79e27.jpg'),\n",
              " PosixPath('/content/images/mainan_puzzle/237_769cdce2.jpg'),\n",
              " PosixPath('/content/images/mainan_puzzle/238_4267e42f.jpg'),\n",
              " PosixPath('/content/images/mainan_puzzle/239_ff5c3ca7.jpg'),\n",
              " PosixPath('/content/images/mainan_puzzle/240_b83256f5.jpg'),\n",
              " PosixPath('/content/images/mainan_puzzle/241_88d443bd.jpg'),\n",
              " PosixPath('/content/images/mainan_puzzle/242_7a961e16.jpg'),\n",
              " PosixPath('/content/images/mainan_puzzle/243_529c6054.jpg'),\n",
              " PosixPath('/content/images/mainan_puzzle/244_e3a1caf6.jpg'),\n",
              " PosixPath('/content/images/mainan_puzzle/245_c45cfa2a.jpg'),\n",
              " PosixPath('/content/images/mainan_puzzle/246_c9a790e1.jpg'),\n",
              " PosixPath('/content/images/mainan_puzzle/247_42cf8d84.jpg'),\n",
              " PosixPath('/content/images/mainan_puzzle/248_fd2bbba8.jpg'),\n",
              " PosixPath('/content/images/mainan_puzzle/249_eaf7c81b.jpg'),\n",
              " PosixPath('/content/images/mainan_puzzle/250_eb73df58.jpg'),\n",
              " PosixPath('/content/images/mainan_puzzle/251_07e1bff6.jpg'),\n",
              " PosixPath('/content/images/mainan_puzzle/252_eeb38739.jpg'),\n",
              " PosixPath('/content/images/mainan_puzzle/253_98cc44ce.jpg'),\n",
              " PosixPath('/content/images/mainan_puzzle/254_de84c5a6.jpg'),\n",
              " PosixPath('/content/images/mainan_puzzle/255_3ffd91b4.jpg'),\n",
              " PosixPath('/content/images/mainan_puzzle/256_2b57fbe2.jpg'),\n",
              " PosixPath('/content/images/mainan_puzzle/257_7a5c9aa6.jpg'),\n",
              " PosixPath('/content/images/mainan_puzzle/258_161fbefc.jpg'),\n",
              " PosixPath('/content/images/mainan_puzzle/259_acbd2945.jpg'),\n",
              " PosixPath('/content/images/mainan_puzzle/260_3a503eaa.jpg'),\n",
              " PosixPath('/content/images/mainan_puzzle/261_e58ebb3c.jpg'),\n",
              " PosixPath('/content/images/mainan_puzzle/262_4d7e5dc2.jpg'),\n",
              " PosixPath('/content/images/mainan_puzzle/263_8fca2335.jpg'),\n",
              " PosixPath('/content/images/mainan_puzzle/264_c18c48ad.jpg'),\n",
              " PosixPath('/content/images/mainan_puzzle/265_b2155c0b.jpg'),\n",
              " PosixPath('/content/images/mainan_puzzle/266_e1af0f22.jpg'),\n",
              " PosixPath('/content/images/mainan_puzzle/267_af2705d1.jpg'),\n",
              " PosixPath('/content/images/mainan_puzzle/268_8bb585d5.jpg'),\n",
              " PosixPath('/content/images/mainan_puzzle/269_b9a2593c.jpg'),\n",
              " PosixPath('/content/images/mainan_puzzle/270_e50856eb.jpg'),\n",
              " PosixPath('/content/images/mainan_puzzle/271_583f6c82.jpg'),\n",
              " PosixPath('/content/images/mainan_puzzle/272_fbb12e44.jpg'),\n",
              " PosixPath('/content/images/mainan_puzzle/273_1d57dab8.jpg'),\n",
              " PosixPath('/content/images/mainan_puzzle/274_d367d654.jpg'),\n",
              " PosixPath('/content/images/mainan_puzzle/275_65426fdd.jpg'),\n",
              " PosixPath('/content/images/mainan_puzzle/276_941d3c6c.jpg'),\n",
              " PosixPath('/content/images/mainan_puzzle/277_959fbb33.jpg'),\n",
              " PosixPath('/content/images/mainan_puzzle/278_8f4d5745.jpg'),\n",
              " PosixPath('/content/images/mainan_puzzle/279_33d1faf1.jpg'),\n",
              " PosixPath('/content/images/mainan_puzzle/280_4029ea6b.jpg'),\n",
              " PosixPath('/content/images/mainan_puzzle/281_eab7f3a3.jpg'),\n",
              " PosixPath('/content/images/mainan_puzzle/282_081d4062.jpg'),\n",
              " PosixPath('/content/images/mainan_puzzle/283_68537ae7.jpg'),\n",
              " PosixPath('/content/images/mainan_puzzle/284_f3ce379b.jpg'),\n",
              " PosixPath('/content/images/mainan_puzzle/285_3328c604.jpg'),\n",
              " PosixPath('/content/images/mainan_puzzle/286_db58e983.jpg'),\n",
              " PosixPath('/content/images/mainan_puzzle/287_bcc0a8b9.jpg'),\n",
              " PosixPath('/content/images/mainan_puzzle/288_a0c90e39.jpg'),\n",
              " PosixPath('/content/images/mainan_puzzle/289_c7eae92a.jpg'),\n",
              " PosixPath('/content/images/mainan_puzzle/290_2b5e5389.jpg'),\n",
              " PosixPath('/content/images/mainan_puzzle/291_2487ef45.jpg'),\n",
              " PosixPath('/content/images/mainan_puzzle/292_11bf69e4.jpg'),\n",
              " PosixPath('/content/images/mainan_puzzle/293_68bf35ce.jpg'),\n",
              " PosixPath('/content/images/mainan_puzzle/294_d3559c58.jpg'),\n",
              " PosixPath('/content/images/mainan_puzzle/295_53b000b2.jpg'),\n",
              " PosixPath('/content/images/mainan_puzzle/296_df4dd371.jpg'),\n",
              " PosixPath('/content/images/mainan_puzzle/297_eed455da.jpg'),\n",
              " PosixPath('/content/images/mainan_puzzle/298_b215d6f6.jpg'),\n",
              " PosixPath('/content/images/mainan_puzzle/299_2616420f.jpg'),\n",
              " PosixPath('/content/images/mainan_puzzle/300_7136e62d.jpg'),\n",
              " PosixPath('/content/images/mainan_puzzle/301_2c1da00d.jpg'),\n",
              " PosixPath('/content/images/mainan_puzzle/302_956ff491.jpg'),\n",
              " PosixPath('/content/images/mainan_puzzle/303_38e8a78f.jpg'),\n",
              " PosixPath('/content/images/mainan_puzzle/304_5527b0d1.jpg'),\n",
              " PosixPath('/content/images/mainan_puzzle/305_4dc49e30.jpg'),\n",
              " PosixPath('/content/images/mainan_puzzle/306_4f7eec19.jpg'),\n",
              " PosixPath('/content/images/mainan_puzzle/307_67849fa2.jpg'),\n",
              " PosixPath('/content/images/mainan_puzzle/308_7f136db4.jpg'),\n",
              " PosixPath('/content/images/mainan_puzzle/309_ab93ae24.jpg'),\n",
              " PosixPath('/content/images/mainan_puzzle/310_b90914fb.jpg'),\n",
              " PosixPath('/content/images/mainan_puzzle/311_c3242a14.jpg'),\n",
              " PosixPath('/content/images/mainan_puzzle/312_f0eb06cd.jpg'),\n",
              " PosixPath('/content/images/mainan_puzzle/313_2096fa54.jpg'),\n",
              " PosixPath('/content/images/mainan_puzzle/314_2ca5bd8b.jpg'),\n",
              " PosixPath('/content/images/mainan_puzzle/315_487ab36b.jpg'),\n",
              " PosixPath('/content/images/mainan_puzzle/316_5f9fd2f0.jpg'),\n",
              " PosixPath('/content/images/mainan_puzzle/317_bb4e415a.jpg'),\n",
              " PosixPath('/content/images/mainan_puzzle/318_dc97a394.jpg'),\n",
              " PosixPath('/content/images/mainan_puzzle/319_9ba8d477.jpg'),\n",
              " PosixPath('/content/images/mainan_puzzle/320_829b80a7.jpg'),\n",
              " PosixPath('/content/images/mainan_puzzle/321_839cdc5a.jpg'),\n",
              " PosixPath('/content/images/mainan_puzzle/322_c51d4f11.jpg'),\n",
              " PosixPath('/content/images/mainan_puzzle/323_a55713a7.jpg'),\n",
              " PosixPath('/content/images/mainan_puzzle/324_25379b2e.jpg'),\n",
              " PosixPath('/content/images/mainan_puzzle/325_fda1ca1d.jpg'),\n",
              " PosixPath('/content/images/mainan_puzzle/326_e8f64146.jpg'),\n",
              " PosixPath('/content/images/mainan_puzzle/327_f26147de.jpg'),\n",
              " PosixPath('/content/images/mainan_puzzle/328_61bd9510.jpg'),\n",
              " PosixPath('/content/images/mainan_puzzle/329_57afc8fd.jpg'),\n",
              " PosixPath('/content/images/mainan_puzzle/330_3023e9f0.jpg'),\n",
              " PosixPath('/content/images/mainan_puzzle/331_d061041a.jpg'),\n",
              " PosixPath('/content/images/mainan_puzzle/332_4e3f62e6.jpg'),\n",
              " PosixPath('/content/images/mainan_puzzle/333_31068ba1.jpg'),\n",
              " PosixPath('/content/images/mainan_puzzle/334_acfb2e7d.jpg'),\n",
              " PosixPath('/content/images/mainan_puzzle/335_8166203f.jpg'),\n",
              " PosixPath('/content/images/mainan_puzzle/336_373b8520.jpg'),\n",
              " PosixPath('/content/images/mainan_puzzle/337_6f49ebda.jpg'),\n",
              " PosixPath('/content/images/mainan_puzzle/338_cfc3bc20.jpg'),\n",
              " PosixPath('/content/images/mainan_puzzle/339_6c6bb5e5.jpg'),\n",
              " PosixPath('/content/images/mainan_puzzle/340_0049d419.jpg'),\n",
              " PosixPath('/content/images/mainan_puzzle/341_92fcc5a2.jpg'),\n",
              " PosixPath('/content/images/mainan_puzzle/342_c73c9280.jpg'),\n",
              " PosixPath('/content/images/mainan_puzzle/343_c17e39d5.jpg'),\n",
              " PosixPath('/content/images/mainan_puzzle/344_2e82cc19.jpg'),\n",
              " PosixPath('/content/images/mainan_puzzle/345_0263290e.jpg'),\n",
              " PosixPath('/content/images/mainan_puzzle/346_803829a5.jpg'),\n",
              " PosixPath('/content/images/mainan_puzzle/347_0de63512.jpg'),\n",
              " PosixPath('/content/images/mainan_puzzle/348_bdab55f1.jpg'),\n",
              " PosixPath('/content/images/mainan_puzzle/349_41529023.jpg'),\n",
              " PosixPath('/content/images/mainan_puzzle/350_a863b96c.jpg'),\n",
              " PosixPath('/content/images/mainan_puzzle/351_8265af52.jpg'),\n",
              " PosixPath('/content/images/mainan_puzzle/352_11c3ae9e.jpg'),\n",
              " PosixPath('/content/images/mainan_puzzle/353_a9fe3424.jpg'),\n",
              " PosixPath('/content/images/mainan_puzzle/354_9fcacda4.jpg'),\n",
              " PosixPath('/content/images/mainan_puzzle/355_24692a28.jpg'),\n",
              " PosixPath('/content/images/mainan_puzzle/356_f4955e17.jpg'),\n",
              " PosixPath('/content/images/mainan_puzzle/357_47d31a17.jpg'),\n",
              " PosixPath('/content/images/mainan_puzzle/358_aefcb770.jpg'),\n",
              " PosixPath('/content/images/mainan_puzzle/359_bf6e0d34.jpg'),\n",
              " PosixPath('/content/images/mainan_puzzle/360_bd209024.jpg'),\n",
              " PosixPath('/content/images/mainan_puzzle/361_72f16744.jpg'),\n",
              " PosixPath('/content/images/mainan_puzzle/362_7b4ea8ae.jpg'),\n",
              " PosixPath('/content/images/mainan_puzzle/363_89a0edf6.jpg')]"
            ]
          },
          "metadata": {},
          "execution_count": 29
        }
      ]
    },
    {
      "cell_type": "markdown",
      "metadata": {
        "id": "MMYX3LJ4MR4t"
      },
      "source": [
        "## Changing params across multiple searches"
      ]
    },
    {
      "cell_type": "code",
      "metadata": {
        "id": "8vw7K4ULGz-8"
      },
      "source": [
        "# If you're going to override default params across multiple searches you can use a\n",
        "# dictionary like this (so you can change search params for the entire dataset once).\n",
        "\n",
        "params = {\n",
        "    \"max_results\": 10,             # this can go up to 477 at the time of writing\n",
        "    \"img_size\":    ImgSize.Cached,\n",
        "    \"img_type\":    ImgType.Photo,\n",
        "    \"img_layout\":  ImgLayout.Square,\n",
        "    \"img_color\":   ImgColor.Purple\n",
        "}\n",
        "\n",
        "duckduckgo_search(root, \"Nice\", \"nice clowns\", **params)\n",
        "duckduckgo_search(root, \"Scary\", \"scary clowns\", **params)"
      ],
      "execution_count": null,
      "outputs": []
    },
    {
      "cell_type": "markdown",
      "metadata": {
        "id": "wlqGB5jtNWgs"
      },
      "source": [
        "## Deleting all images"
      ]
    },
    {
      "cell_type": "code",
      "metadata": {
        "id": "3jSRRz9jNVi0",
        "colab": {
          "base_uri": "https://localhost:8080/",
          "height": 236
        },
        "outputId": "0e87b167-4dd2-4762-f288-0d597733dfa2"
      },
      "source": [
        "rmtree(root)"
      ],
      "execution_count": null,
      "outputs": [
        {
          "output_type": "error",
          "ename": "NameError",
          "evalue": "ignored",
          "traceback": [
            "\u001b[0;31m---------------------------------------------------------------------------\u001b[0m",
            "\u001b[0;31mNameError\u001b[0m                                 Traceback (most recent call last)",
            "\u001b[0;32m<ipython-input-33-8d65aced429f>\u001b[0m in \u001b[0;36m<cell line: 2>\u001b[0;34m()\u001b[0m\n\u001b[1;32m      1\u001b[0m \u001b[0;31m# !rm -r images/mainan_lato\u001b[0m\u001b[0;34m\u001b[0m\u001b[0;34m\u001b[0m\u001b[0m\n\u001b[0;32m----> 2\u001b[0;31m \u001b[0mfolder_path\u001b[0m\u001b[0;34m=\u001b[0m \u001b[0mimages\u001b[0m\u001b[0;34m\u001b[0m\u001b[0;34m\u001b[0m\u001b[0m\n\u001b[0m\u001b[1;32m      3\u001b[0m \u001b[0mzip_file_name\u001b[0m \u001b[0;34m=\u001b[0m \u001b[0;34m'mainanV1.zip'\u001b[0m\u001b[0;34m\u001b[0m\u001b[0;34m\u001b[0m\u001b[0m\n\u001b[1;32m      4\u001b[0m \u001b[0mget_ipython\u001b[0m\u001b[0;34m(\u001b[0m\u001b[0;34m)\u001b[0m\u001b[0;34m.\u001b[0m\u001b[0msystem\u001b[0m\u001b[0;34m(\u001b[0m\u001b[0;34m'zip -r $zip_file_name $folder_path'\u001b[0m\u001b[0;34m)\u001b[0m\u001b[0;34m\u001b[0m\u001b[0;34m\u001b[0m\u001b[0m\n",
            "\u001b[0;31mNameError\u001b[0m: name 'images' is not defined"
          ]
        }
      ]
    },
    {
      "cell_type": "markdown",
      "metadata": {
        "id": "W2IKoyz-NvFq"
      },
      "source": [
        "## Displaying the image cleaner\n",
        "\n",
        "Use this to get rid of unsuitable images without leaving your notebook"
      ]
    },
    {
      "cell_type": "code",
      "metadata": {
        "id": "ZWwjDsJDOGrO",
        "cellView": "code"
      },
      "source": [
        "from jmd_imagescraper.imagecleaner import *\n",
        "\n",
        "display_image_cleaner(root)"
      ],
      "execution_count": null,
      "outputs": []
    },
    {
      "cell_type": "markdown",
      "metadata": {
        "id": "H6KTdjEY0Fix"
      },
      "source": [
        "## Create a zip to download or transfer to google drive"
      ]
    },
    {
      "cell_type": "code",
      "metadata": {
        "id": "O8CT2yVzfZXb"
      },
      "source": [
        "# create zip\n",
        "\n",
        "ZIP_NAME = \"mainanv1.zip\" # maybe change this?\n",
        "\n",
        "!rm -f {ZIP_NAME}\n",
        "!zip -q -r {ZIP_NAME} {root}"
      ],
      "execution_count": null,
      "outputs": []
    },
    {
      "cell_type": "code",
      "metadata": {
        "id": "rmnndlPN1yTY",
        "colab": {
          "base_uri": "https://localhost:8080/",
          "height": 17
        },
        "outputId": "fd82ef96-201d-4fe2-b37b-601d8f6ab113"
      },
      "source": [
        "# download to your local system\n",
        "\n",
        "from google.colab import files\n",
        "files.download(ZIP_NAME)"
      ],
      "execution_count": null,
      "outputs": [
        {
          "output_type": "display_data",
          "data": {
            "text/plain": [
              "<IPython.core.display.Javascript object>"
            ],
            "application/javascript": [
              "\n",
              "    async function download(id, filename, size) {\n",
              "      if (!google.colab.kernel.accessAllowed) {\n",
              "        return;\n",
              "      }\n",
              "      const div = document.createElement('div');\n",
              "      const label = document.createElement('label');\n",
              "      label.textContent = `Downloading \"${filename}\": `;\n",
              "      div.appendChild(label);\n",
              "      const progress = document.createElement('progress');\n",
              "      progress.max = size;\n",
              "      div.appendChild(progress);\n",
              "      document.body.appendChild(div);\n",
              "\n",
              "      const buffers = [];\n",
              "      let downloaded = 0;\n",
              "\n",
              "      const channel = await google.colab.kernel.comms.open(id);\n",
              "      // Send a message to notify the kernel that we're ready.\n",
              "      channel.send({})\n",
              "\n",
              "      for await (const message of channel.messages) {\n",
              "        // Send a message to notify the kernel that we're ready.\n",
              "        channel.send({})\n",
              "        if (message.buffers) {\n",
              "          for (const buffer of message.buffers) {\n",
              "            buffers.push(buffer);\n",
              "            downloaded += buffer.byteLength;\n",
              "            progress.value = downloaded;\n",
              "          }\n",
              "        }\n",
              "      }\n",
              "      const blob = new Blob(buffers, {type: 'application/binary'});\n",
              "      const a = document.createElement('a');\n",
              "      a.href = window.URL.createObjectURL(blob);\n",
              "      a.download = filename;\n",
              "      div.appendChild(a);\n",
              "      a.click();\n",
              "      div.remove();\n",
              "    }\n",
              "  "
            ]
          },
          "metadata": {}
        },
        {
          "output_type": "display_data",
          "data": {
            "text/plain": [
              "<IPython.core.display.Javascript object>"
            ],
            "application/javascript": [
              "download(\"download_2acfaa1c-1cf7-4da8-a959-da14fc78753c\", \"mainanv1.zip\", 73627216)"
            ]
          },
          "metadata": {}
        }
      ]
    },
    {
      "cell_type": "code",
      "metadata": {
        "id": "-BfkU4_u2kdp"
      },
      "source": [
        "# copy to google drive\n",
        "\n",
        "from google.colab import drive\n",
        "import shutil\n",
        "\n",
        "DESTINATION_FOLDER = \"Datasets\" # where would you like this in Google Drive?\n",
        "\n",
        "drive.mount(\"/content/drive\")\n",
        "folder = Path(\"/content/drive/My Drive\")/DESTINATION_FOLDER\n",
        "folder.mkdir(parents=True, exist_ok=True)\n",
        "\n",
        "shutil.copyfile(ZIP_NAME, str(folder/ZIP_NAME))"
      ],
      "execution_count": null,
      "outputs": []
    },
    {
      "cell_type": "markdown",
      "metadata": {
        "id": "pvM0imifGwOY"
      },
      "source": [
        "## Create a CSV file of URLs\n",
        "\n",
        "If you'd rather distribute a file with the image URLs and labels and have people download the images themselves you can do so here."
      ]
    },
    {
      "cell_type": "code",
      "metadata": {
        "id": "Q_VQvB9KG0v-"
      },
      "source": [
        "CSV_NAME = \"images.csv\" # maybe change this?\n",
        "\n",
        "!rm -f {CSV_NAME}\n",
        "\n",
        "csv = Path.cwd()/CSV_NAME\n",
        "save_urls_to_csv(csv, \"Nice\", \"nice clowns\", max_results=5)\n",
        "save_urls_to_csv(csv, \"Scary\", \"scary clowns\", max_results=5)"
      ],
      "execution_count": null,
      "outputs": []
    }
  ]
}